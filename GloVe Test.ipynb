{
 "cells": [
  {
   "cell_type": "code",
   "execution_count": 2,
   "metadata": {},
   "outputs": [],
   "source": [
    "import numpy as np\n",
    "def loadGloveModel(gloveFile):\n",
    "    print(\"Loading Glove Model\")\n",
    "    f = open(gloveFile,'r')\n",
    "    model = {}\n",
    "    for line in f:\n",
    "        splitLine = line.split()\n",
    "        word = splitLine[0]\n",
    "        embedding = np.array([float(val) for val in splitLine[1:]])\n",
    "        model[word] = embedding\n",
    "    print(\"Done.\",len(model),\" words loaded!\")\n",
    "    return model"
   ]
  },
  {
   "cell_type": "code",
   "execution_count": 3,
   "metadata": {},
   "outputs": [
    {
     "name": "stdout",
     "output_type": "stream",
     "text": [
      "Loading Glove Model\n",
      "Done. 400000  words loaded!\n"
     ]
    }
   ],
   "source": [
    "model = loadGloveModel(\"../glove.6B/glove.6B.50d.txt\")"
   ]
  },
  {
   "cell_type": "code",
   "execution_count": 8,
   "metadata": {},
   "outputs": [],
   "source": [
    "embeddings = []\n",
    "\n",
    "for i in range(100):\n",
    "    embeddings.append(model[str(i)])"
   ]
  },
  {
   "cell_type": "code",
   "execution_count": 11,
   "metadata": {},
   "outputs": [],
   "source": [
    "embeddings_np = np.array(embeddings)"
   ]
  },
  {
   "cell_type": "code",
   "execution_count": 13,
   "metadata": {},
   "outputs": [],
   "source": [
    "np.save(\"digit_embeddings.npy\", embeddings_np)"
   ]
  },
  {
   "cell_type": "code",
   "execution_count": 21,
   "metadata": {},
   "outputs": [
    {
     "name": "stdout",
     "output_type": "stream",
     "text": [
      "0.573880893825\n",
      "0.5013857654249999\n"
     ]
    }
   ],
   "source": [
    "embedding_np_loaded = np.load(\"digit_embeddings.npy\")\n",
    "print(np.sum((embedding_np_loaded[5] - embedding_np_loaded[6]) ** 2))\n",
    "print(np.sum((embedding_np_loaded[5] - embedding_np_loaded[4]) ** 2))"
   ]
  },
  {
   "cell_type": "code",
   "execution_count": 15,
   "metadata": {},
   "outputs": [
    {
     "data": {
      "text/plain": [
       "array([-0.24553 ,  0.92887 ,  0.94636 ,  0.29393 ,  0.39314 ,  0.53382 ,\n",
       "       -0.29355 , -0.31434 , -0.62094 , -0.4273  , -0.23509 , -0.52062 ,\n",
       "       -0.095535, -0.3516  ,  0.89212 , -0.54079 , -0.67408 , -0.27857 ,\n",
       "       -1.5973  ,  0.38972 ,  0.44949 , -0.58631 ,  1.1934  ,  0.21847 ,\n",
       "       -0.52188 , -0.4662  ,  0.80966 , -0.61973 ,  0.27912 , -0.25251 ,\n",
       "        3.5053  ,  0.27438 , -0.17765 ,  0.68347 ,  0.45855 , -0.46349 ,\n",
       "        0.6654  ,  0.20135 ,  0.5917  , -0.44234 ,  0.23723 , -0.40514 ,\n",
       "        0.70945 , -0.95255 , -0.55746 ,  0.91859 ,  0.17705 , -0.75177 ,\n",
       "        0.42187 ,  0.48225 ])"
      ]
     },
     "execution_count": 15,
     "metadata": {},
     "output_type": "execute_result"
    }
   ],
   "source": [
    "model[\"5\"]"
   ]
  },
  {
   "cell_type": "code",
   "execution_count": null,
   "metadata": {},
   "outputs": [],
   "source": []
  }
 ],
 "metadata": {
  "kernelspec": {
   "display_name": "Python 3",
   "language": "python",
   "name": "python3"
  },
  "language_info": {
   "codemirror_mode": {
    "name": "ipython",
    "version": 3
   },
   "file_extension": ".py",
   "mimetype": "text/x-python",
   "name": "python",
   "nbconvert_exporter": "python",
   "pygments_lexer": "ipython3",
   "version": "3.6.8"
  }
 },
 "nbformat": 4,
 "nbformat_minor": 2
}
